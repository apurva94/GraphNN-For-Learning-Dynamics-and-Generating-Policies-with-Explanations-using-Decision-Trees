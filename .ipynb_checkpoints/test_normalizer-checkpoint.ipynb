{
 "cells": [
  {
   "cell_type": "code",
   "execution_count": 1,
   "metadata": {
    "collapsed": true
   },
   "outputs": [],
   "source": [
    "import torch"
   ]
  },
  {
   "cell_type": "code",
   "execution_count": 2,
   "metadata": {
    "collapsed": true
   },
   "outputs": [],
   "source": [
    "normalizers = torch.load('normalize.pth')\n",
    "in_normalizer = normalizers['in_normalizer']\n",
    "out_normalizer = normalizers['out_normalizer']"
   ]
  },
  {
   "cell_type": "code",
   "execution_count": 4,
   "metadata": {},
   "outputs": [
    {
     "name": "stdout",
     "output_type": "stream",
     "text": [
      "tensor([[0.0843, 0.0817, 1.2791, 0.0308, 0.0308, 1.1275],\n",
      "        [0.0520, 0.0512, 1.2009, 0.0272, 0.0279, 1.0055],\n",
      "        [0.0229, 0.0227, 1.2413, 0.0260, 0.0261, 0.9713],\n",
      "        [0.0230, 0.0227, 1.2437, 0.0260, 0.0258, 0.9775],\n",
      "        [0.0521, 0.0514, 1.2184, 0.0275, 0.0274, 1.0083],\n",
      "        [0.0836, 0.0809, 1.3215, 0.0308, 0.0308, 1.1443]], device='cuda:0')\n"
     ]
    }
   ],
   "source": [
    "std = in_normalizer.get_std()"
   ]
  },
  {
   "cell_type": "code",
   "execution_count": 6,
   "metadata": {},
   "outputs": [
    {
     "data": {
      "text/plain": [
       "tensor([[0.0843, 0.0817, 1.2791],\n",
       "        [0.0520, 0.0512, 1.2009],\n",
       "        [0.0229, 0.0227, 1.2413],\n",
       "        [0.0230, 0.0227, 1.2437],\n",
       "        [0.0521, 0.0514, 1.2184],\n",
       "        [0.0836, 0.0809, 1.3215]], device='cuda:0')"
      ]
     },
     "execution_count": 6,
     "metadata": {},
     "output_type": "execute_result"
    }
   ],
   "source": [
    "std[:6,:3]"
   ]
  },
  {
   "cell_type": "code",
   "execution_count": 7,
   "metadata": {},
   "outputs": [
    {
     "data": {
      "text/plain": [
       "tensor([[0.0308, 0.0308, 1.1275],\n",
       "        [0.0272, 0.0279, 1.0055],\n",
       "        [0.0260, 0.0261, 0.9713],\n",
       "        [0.0260, 0.0258, 0.9775],\n",
       "        [0.0275, 0.0274, 1.0083],\n",
       "        [0.0308, 0.0308, 1.1443]], device='cuda:0')"
      ]
     },
     "execution_count": 7,
     "metadata": {},
     "output_type": "execute_result"
    }
   ],
   "source": [
    "std[:6,3:]"
   ]
  },
  {
   "cell_type": "code",
   "execution_count": null,
   "metadata": {
    "collapsed": true
   },
   "outputs": [],
   "source": []
  }
 ],
 "metadata": {
  "kernelspec": {
   "display_name": "Python 3 (ipykernel)",
   "language": "python",
   "name": "python3"
  },
  "language_info": {
   "codemirror_mode": {
    "name": "ipython",
    "version": 3
   },
   "file_extension": ".py",
   "mimetype": "text/x-python",
   "name": "python",
   "nbconvert_exporter": "python",
   "pygments_lexer": "ipython3",
   "version": "3.9.5"
  }
 },
 "nbformat": 4,
 "nbformat_minor": 2
}
